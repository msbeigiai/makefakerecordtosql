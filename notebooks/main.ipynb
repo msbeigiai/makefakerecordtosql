{
 "cells": [
  {
   "cell_type": "code",
   "execution_count": 113,
   "outputs": [],
   "source": [
    "import pyodbc"
   ],
   "metadata": {
    "collapsed": false,
    "pycharm": {
     "name": "#%%\n"
    }
   }
  },
  {
   "cell_type": "code",
   "execution_count": 114,
   "outputs": [
    {
     "data": {
      "text/plain": "['SQL Server',\n 'SQL Server Native Client 11.0',\n 'SQL Server Native Client RDA 11.0',\n 'ODBC Driver 17 for SQL Server',\n 'Microsoft Access Driver (*.mdb, *.accdb)',\n 'Microsoft Excel Driver (*.xls, *.xlsx, *.xlsm, *.xlsb)',\n 'Microsoft Access Text Driver (*.txt, *.csv)',\n 'ODBC Driver 18 for SQL Server']"
     },
     "execution_count": 114,
     "metadata": {},
     "output_type": "execute_result"
    }
   ],
   "source": [
    "pyodbc.drivers()"
   ],
   "metadata": {
    "collapsed": false,
    "pycharm": {
     "name": "#%%\n"
    }
   }
  },
  {
   "cell_type": "code",
   "execution_count": 115,
   "outputs": [],
   "source": [
    "server = 'tcp:localhost,1433'\n",
    "database = 'MicrosoftDynamicsAX'\n",
    "username = 'sa'\n",
    "password = 'testpassword'\n",
    "cnxn = pyodbc.connect('DRIVER={ODBC Driver 17 for SQL Server};SERVER='+server+';DATABASE='+database+';UID='+username+';PWD='+ password)\n",
    "cursor = cnxn.cursor()"
   ],
   "metadata": {
    "collapsed": false,
    "pycharm": {
     "name": "#%%\n"
    }
   }
  },
  {
   "cell_type": "code",
   "execution_count": 116,
   "outputs": [
    {
     "name": "stdout",
     "output_type": "stream",
     "text": [
      "(5511, )\n"
     ]
    }
   ],
   "source": [
    "command = \"select count(*) from dbo.RETAILTRANSACTIONTABLE;\"\n",
    "cursor.execute(command)\n",
    "\n",
    "for value in cursor:\n",
    "    print(value)"
   ],
   "metadata": {
    "collapsed": false,
    "pycharm": {
     "name": "#%%\n"
    }
   }
  },
  {
   "cell_type": "code",
   "execution_count": 117,
   "outputs": [],
   "source": [
    "import pandas as pd"
   ],
   "metadata": {
    "collapsed": false,
    "pycharm": {
     "name": "#%%\n"
    }
   }
  },
  {
   "cell_type": "code",
   "execution_count": 118,
   "outputs": [],
   "source": [
    "command = \"select * from dbo.RETAILTRANSACTIONTABLE;\""
   ],
   "metadata": {
    "collapsed": false,
    "pycharm": {
     "name": "#%%\n"
    }
   }
  },
  {
   "cell_type": "code",
   "execution_count": 119,
   "outputs": [
    {
     "name": "stderr",
     "output_type": "stream",
     "text": [
      "c:\\Users\\mohse\\Documents\\dev\\python_projects\\generalenv\\lib\\site-packages\\pandas\\io\\sql.py:761: UserWarning: pandas only support SQLAlchemy connectable(engine/connection) ordatabase string URI or sqlite3 DBAPI2 connectionother DBAPI2 objects are not tested, please consider using SQLAlchemy\n",
      "  warnings.warn(\n"
     ]
    }
   ],
   "source": [
    "df = pd.read_sql(command, cnxn)"
   ],
   "metadata": {
    "collapsed": false,
    "pycharm": {
     "name": "#%%\n"
    }
   }
  },
  {
   "cell_type": "code",
   "execution_count": 120,
   "outputs": [
    {
     "data": {
      "text/plain": "  INVOICEID          TRANSACTIONID  TYPE RECEIPTID   STORE   TERMINAL   STAFF  \\\n0            1002_8-1002_8_01-1000     2            1002_8  1002_8_01  000001   \n1            1002_8-1002_8_01-1001     0            1002_8  1002_8_01  000001   \n2            1002_8-1002_8_01-1002     1            1002_8  1002_8_01  000001   \n3            1002_8-1002_8_01-1003     2            1002_8  1002_8_01  000001   \n4            1002_8-1002_8_01-1004     0            1002_8  1002_8_01  000001   \n\n   TRANSDATE  TRANSTIME SHIFT  ...    MODIFIEDDATETIME  DEL_MODIFIEDTIME  \\\n0 2021-11-13      42101        ... 2022-02-14 08:06:28                 0   \n1 2021-11-13      42421        ... 2022-02-14 08:06:28                 0   \n2 2021-11-13      42456        ... 2022-02-14 08:06:28                 0   \n3 2021-11-13      42481        ... 2022-02-14 08:06:28                 0   \n4 2021-11-13      42669        ... 2022-02-14 08:06:28                 0   \n\n  MODIFIEDBY     CREATEDDATETIME  DEL_CREATEDTIME  CREATEDBY  DATAAREAID  \\\n0   Me.Zaman 2022-02-14 08:06:28                0   Me.Zaman         osh   \n1   Me.Zaman 2022-02-14 08:06:28                0   Me.Zaman         osh   \n2   Me.Zaman 2022-02-14 08:06:28                0   Me.Zaman         osh   \n3   Me.Zaman 2022-02-14 08:06:28                0   Me.Zaman         osh   \n4   Me.Zaman 2022-02-14 08:06:28                0   Me.Zaman         osh   \n\n   RECVERSION   PARTITION       RECID  \n0           1  5637144576  5637144576  \n1           1  5637144576  5637144577  \n2           1  5637144576  5637144578  \n3           1  5637144576  5637144579  \n4           1  5637144576  5637144580  \n\n[5 rows x 96 columns]",
      "text/html": "<div>\n<style scoped>\n    .dataframe tbody tr th:only-of-type {\n        vertical-align: middle;\n    }\n\n    .dataframe tbody tr th {\n        vertical-align: top;\n    }\n\n    .dataframe thead th {\n        text-align: right;\n    }\n</style>\n<table border=\"1\" class=\"dataframe\">\n  <thead>\n    <tr style=\"text-align: right;\">\n      <th></th>\n      <th>INVOICEID</th>\n      <th>TRANSACTIONID</th>\n      <th>TYPE</th>\n      <th>RECEIPTID</th>\n      <th>STORE</th>\n      <th>TERMINAL</th>\n      <th>STAFF</th>\n      <th>TRANSDATE</th>\n      <th>TRANSTIME</th>\n      <th>SHIFT</th>\n      <th>...</th>\n      <th>MODIFIEDDATETIME</th>\n      <th>DEL_MODIFIEDTIME</th>\n      <th>MODIFIEDBY</th>\n      <th>CREATEDDATETIME</th>\n      <th>DEL_CREATEDTIME</th>\n      <th>CREATEDBY</th>\n      <th>DATAAREAID</th>\n      <th>RECVERSION</th>\n      <th>PARTITION</th>\n      <th>RECID</th>\n    </tr>\n  </thead>\n  <tbody>\n    <tr>\n      <th>0</th>\n      <td></td>\n      <td>1002_8-1002_8_01-1000</td>\n      <td>2</td>\n      <td></td>\n      <td>1002_8</td>\n      <td>1002_8_01</td>\n      <td>000001</td>\n      <td>2021-11-13</td>\n      <td>42101</td>\n      <td></td>\n      <td>...</td>\n      <td>2022-02-14 08:06:28</td>\n      <td>0</td>\n      <td>Me.Zaman</td>\n      <td>2022-02-14 08:06:28</td>\n      <td>0</td>\n      <td>Me.Zaman</td>\n      <td>osh</td>\n      <td>1</td>\n      <td>5637144576</td>\n      <td>5637144576</td>\n    </tr>\n    <tr>\n      <th>1</th>\n      <td></td>\n      <td>1002_8-1002_8_01-1001</td>\n      <td>0</td>\n      <td></td>\n      <td>1002_8</td>\n      <td>1002_8_01</td>\n      <td>000001</td>\n      <td>2021-11-13</td>\n      <td>42421</td>\n      <td></td>\n      <td>...</td>\n      <td>2022-02-14 08:06:28</td>\n      <td>0</td>\n      <td>Me.Zaman</td>\n      <td>2022-02-14 08:06:28</td>\n      <td>0</td>\n      <td>Me.Zaman</td>\n      <td>osh</td>\n      <td>1</td>\n      <td>5637144576</td>\n      <td>5637144577</td>\n    </tr>\n    <tr>\n      <th>2</th>\n      <td></td>\n      <td>1002_8-1002_8_01-1002</td>\n      <td>1</td>\n      <td></td>\n      <td>1002_8</td>\n      <td>1002_8_01</td>\n      <td>000001</td>\n      <td>2021-11-13</td>\n      <td>42456</td>\n      <td></td>\n      <td>...</td>\n      <td>2022-02-14 08:06:28</td>\n      <td>0</td>\n      <td>Me.Zaman</td>\n      <td>2022-02-14 08:06:28</td>\n      <td>0</td>\n      <td>Me.Zaman</td>\n      <td>osh</td>\n      <td>1</td>\n      <td>5637144576</td>\n      <td>5637144578</td>\n    </tr>\n    <tr>\n      <th>3</th>\n      <td></td>\n      <td>1002_8-1002_8_01-1003</td>\n      <td>2</td>\n      <td></td>\n      <td>1002_8</td>\n      <td>1002_8_01</td>\n      <td>000001</td>\n      <td>2021-11-13</td>\n      <td>42481</td>\n      <td></td>\n      <td>...</td>\n      <td>2022-02-14 08:06:28</td>\n      <td>0</td>\n      <td>Me.Zaman</td>\n      <td>2022-02-14 08:06:28</td>\n      <td>0</td>\n      <td>Me.Zaman</td>\n      <td>osh</td>\n      <td>1</td>\n      <td>5637144576</td>\n      <td>5637144579</td>\n    </tr>\n    <tr>\n      <th>4</th>\n      <td></td>\n      <td>1002_8-1002_8_01-1004</td>\n      <td>0</td>\n      <td></td>\n      <td>1002_8</td>\n      <td>1002_8_01</td>\n      <td>000001</td>\n      <td>2021-11-13</td>\n      <td>42669</td>\n      <td></td>\n      <td>...</td>\n      <td>2022-02-14 08:06:28</td>\n      <td>0</td>\n      <td>Me.Zaman</td>\n      <td>2022-02-14 08:06:28</td>\n      <td>0</td>\n      <td>Me.Zaman</td>\n      <td>osh</td>\n      <td>1</td>\n      <td>5637144576</td>\n      <td>5637144580</td>\n    </tr>\n  </tbody>\n</table>\n<p>5 rows × 96 columns</p>\n</div>"
     },
     "execution_count": 120,
     "metadata": {},
     "output_type": "execute_result"
    }
   ],
   "source": [
    "df.head()"
   ],
   "metadata": {
    "collapsed": false,
    "pycharm": {
     "name": "#%%\n"
    }
   }
  },
  {
   "cell_type": "code",
   "execution_count": 121,
   "outputs": [
    {
     "data": {
      "text/plain": "              TYPE     TRANSTIME  WRONGSHIFT  TRANSCODE  \\\ncount  5511.000000   5511.000000      5511.0     5511.0   \nmean      1.705680  51857.236981         0.0        0.0   \nstd       3.545776  13492.846080         0.0        0.0   \nmin       0.000000     82.000000         0.0        0.0   \n25%       0.000000  41222.500000         0.0        0.0   \n50%       1.000000  52644.000000         0.0        0.0   \n75%       2.000000  60636.500000         0.0        0.0   \nmax      30.000000  86372.000000         0.0        0.0   \n\n       SALESPAYMENTDIFFERENCE     NETAMOUNT  COSTAMOUNT   GROSSAMOUNT  \\\ncount            5.511000e+03  5.511000e+03      5511.0  5.511000e+03   \nmean             4.266385e+02 -3.397015e+06         0.0 -3.426661e+06   \nstd              2.484795e+04  3.953531e+07         0.0  3.958899e+07   \nmin              0.000000e+00 -1.502717e+09         0.0 -1.502719e+09   \n25%              0.000000e+00 -3.000000e+04         0.0 -3.000000e+04   \n50%              0.000000e+00  0.000000e+00         0.0  0.000000e+00   \n75%              0.000000e+00  0.000000e+00         0.0  0.000000e+00   \nmax              1.782200e+06  3.460575e+06         0.0  3.460575e+06   \n\n       PAYMENTAMOUNT    DISCAMOUNT  ...  TOTALMANUALDISCOUNTPERCENTAGE  \\\ncount   5.511000e+03  5.511000e+03  ...                         5511.0   \nmean    6.229826e+05  2.669023e+04  ...                            0.0   \nstd     2.123532e+07  2.440134e+05  ...                            0.0   \nmin    -3.460575e+06 -1.000000e+06  ...                            0.0   \n25%     0.000000e+00  0.000000e+00  ...                            0.0   \n50%     0.000000e+00  0.000000e+00  ...                            0.0   \n75%     0.000000e+00  0.000000e+00  ...                            0.0   \nmax     1.502719e+09  9.000000e+06  ...                            0.0   \n\n       CUSTOMERORDERMODE  CUSTOMERORDERTYPE  SUBTYPE  TAXCALCULATIONTYPE  \\\ncount             5511.0             5511.0   5511.0              5511.0   \nmean                 0.0                0.0      0.0                 0.0   \nstd                  0.0                0.0      0.0                 0.0   \nmin                  0.0                0.0      0.0                 0.0   \n25%                  0.0                0.0      0.0                 0.0   \n50%                  0.0                0.0      0.0                 0.0   \n75%                  0.0                0.0      0.0                 0.0   \nmax                  0.0                0.0      0.0                 0.0   \n\n       DEL_MODIFIEDTIME  DEL_CREATEDTIME  RECVERSION     PARTITION  \\\ncount            5511.0           5511.0      5511.0  5.511000e+03   \nmean                0.0              0.0         1.0  5.637145e+09   \nstd                 0.0              0.0         0.0  0.000000e+00   \nmin                 0.0              0.0         1.0  5.637145e+09   \n25%                 0.0              0.0         1.0  5.637145e+09   \n50%                 0.0              0.0         1.0  5.637145e+09   \n75%                 0.0              0.0         1.0  5.637145e+09   \nmax                 0.0              0.0         1.0  5.637145e+09   \n\n              RECID  \ncount  5.511000e+03  \nmean   5.637147e+09  \nstd    1.591033e+03  \nmin    5.637145e+09  \n25%    5.637146e+09  \n50%    5.637147e+09  \n75%    5.637149e+09  \nmax    5.637150e+09  \n\n[8 rows x 54 columns]",
      "text/html": "<div>\n<style scoped>\n    .dataframe tbody tr th:only-of-type {\n        vertical-align: middle;\n    }\n\n    .dataframe tbody tr th {\n        vertical-align: top;\n    }\n\n    .dataframe thead th {\n        text-align: right;\n    }\n</style>\n<table border=\"1\" class=\"dataframe\">\n  <thead>\n    <tr style=\"text-align: right;\">\n      <th></th>\n      <th>TYPE</th>\n      <th>TRANSTIME</th>\n      <th>WRONGSHIFT</th>\n      <th>TRANSCODE</th>\n      <th>SALESPAYMENTDIFFERENCE</th>\n      <th>NETAMOUNT</th>\n      <th>COSTAMOUNT</th>\n      <th>GROSSAMOUNT</th>\n      <th>PAYMENTAMOUNT</th>\n      <th>DISCAMOUNT</th>\n      <th>...</th>\n      <th>TOTALMANUALDISCOUNTPERCENTAGE</th>\n      <th>CUSTOMERORDERMODE</th>\n      <th>CUSTOMERORDERTYPE</th>\n      <th>SUBTYPE</th>\n      <th>TAXCALCULATIONTYPE</th>\n      <th>DEL_MODIFIEDTIME</th>\n      <th>DEL_CREATEDTIME</th>\n      <th>RECVERSION</th>\n      <th>PARTITION</th>\n      <th>RECID</th>\n    </tr>\n  </thead>\n  <tbody>\n    <tr>\n      <th>count</th>\n      <td>5511.000000</td>\n      <td>5511.000000</td>\n      <td>5511.0</td>\n      <td>5511.0</td>\n      <td>5.511000e+03</td>\n      <td>5.511000e+03</td>\n      <td>5511.0</td>\n      <td>5.511000e+03</td>\n      <td>5.511000e+03</td>\n      <td>5.511000e+03</td>\n      <td>...</td>\n      <td>5511.0</td>\n      <td>5511.0</td>\n      <td>5511.0</td>\n      <td>5511.0</td>\n      <td>5511.0</td>\n      <td>5511.0</td>\n      <td>5511.0</td>\n      <td>5511.0</td>\n      <td>5.511000e+03</td>\n      <td>5.511000e+03</td>\n    </tr>\n    <tr>\n      <th>mean</th>\n      <td>1.705680</td>\n      <td>51857.236981</td>\n      <td>0.0</td>\n      <td>0.0</td>\n      <td>4.266385e+02</td>\n      <td>-3.397015e+06</td>\n      <td>0.0</td>\n      <td>-3.426661e+06</td>\n      <td>6.229826e+05</td>\n      <td>2.669023e+04</td>\n      <td>...</td>\n      <td>0.0</td>\n      <td>0.0</td>\n      <td>0.0</td>\n      <td>0.0</td>\n      <td>0.0</td>\n      <td>0.0</td>\n      <td>0.0</td>\n      <td>1.0</td>\n      <td>5.637145e+09</td>\n      <td>5.637147e+09</td>\n    </tr>\n    <tr>\n      <th>std</th>\n      <td>3.545776</td>\n      <td>13492.846080</td>\n      <td>0.0</td>\n      <td>0.0</td>\n      <td>2.484795e+04</td>\n      <td>3.953531e+07</td>\n      <td>0.0</td>\n      <td>3.958899e+07</td>\n      <td>2.123532e+07</td>\n      <td>2.440134e+05</td>\n      <td>...</td>\n      <td>0.0</td>\n      <td>0.0</td>\n      <td>0.0</td>\n      <td>0.0</td>\n      <td>0.0</td>\n      <td>0.0</td>\n      <td>0.0</td>\n      <td>0.0</td>\n      <td>0.000000e+00</td>\n      <td>1.591033e+03</td>\n    </tr>\n    <tr>\n      <th>min</th>\n      <td>0.000000</td>\n      <td>82.000000</td>\n      <td>0.0</td>\n      <td>0.0</td>\n      <td>0.000000e+00</td>\n      <td>-1.502717e+09</td>\n      <td>0.0</td>\n      <td>-1.502719e+09</td>\n      <td>-3.460575e+06</td>\n      <td>-1.000000e+06</td>\n      <td>...</td>\n      <td>0.0</td>\n      <td>0.0</td>\n      <td>0.0</td>\n      <td>0.0</td>\n      <td>0.0</td>\n      <td>0.0</td>\n      <td>0.0</td>\n      <td>1.0</td>\n      <td>5.637145e+09</td>\n      <td>5.637145e+09</td>\n    </tr>\n    <tr>\n      <th>25%</th>\n      <td>0.000000</td>\n      <td>41222.500000</td>\n      <td>0.0</td>\n      <td>0.0</td>\n      <td>0.000000e+00</td>\n      <td>-3.000000e+04</td>\n      <td>0.0</td>\n      <td>-3.000000e+04</td>\n      <td>0.000000e+00</td>\n      <td>0.000000e+00</td>\n      <td>...</td>\n      <td>0.0</td>\n      <td>0.0</td>\n      <td>0.0</td>\n      <td>0.0</td>\n      <td>0.0</td>\n      <td>0.0</td>\n      <td>0.0</td>\n      <td>1.0</td>\n      <td>5.637145e+09</td>\n      <td>5.637146e+09</td>\n    </tr>\n    <tr>\n      <th>50%</th>\n      <td>1.000000</td>\n      <td>52644.000000</td>\n      <td>0.0</td>\n      <td>0.0</td>\n      <td>0.000000e+00</td>\n      <td>0.000000e+00</td>\n      <td>0.0</td>\n      <td>0.000000e+00</td>\n      <td>0.000000e+00</td>\n      <td>0.000000e+00</td>\n      <td>...</td>\n      <td>0.0</td>\n      <td>0.0</td>\n      <td>0.0</td>\n      <td>0.0</td>\n      <td>0.0</td>\n      <td>0.0</td>\n      <td>0.0</td>\n      <td>1.0</td>\n      <td>5.637145e+09</td>\n      <td>5.637147e+09</td>\n    </tr>\n    <tr>\n      <th>75%</th>\n      <td>2.000000</td>\n      <td>60636.500000</td>\n      <td>0.0</td>\n      <td>0.0</td>\n      <td>0.000000e+00</td>\n      <td>0.000000e+00</td>\n      <td>0.0</td>\n      <td>0.000000e+00</td>\n      <td>0.000000e+00</td>\n      <td>0.000000e+00</td>\n      <td>...</td>\n      <td>0.0</td>\n      <td>0.0</td>\n      <td>0.0</td>\n      <td>0.0</td>\n      <td>0.0</td>\n      <td>0.0</td>\n      <td>0.0</td>\n      <td>1.0</td>\n      <td>5.637145e+09</td>\n      <td>5.637149e+09</td>\n    </tr>\n    <tr>\n      <th>max</th>\n      <td>30.000000</td>\n      <td>86372.000000</td>\n      <td>0.0</td>\n      <td>0.0</td>\n      <td>1.782200e+06</td>\n      <td>3.460575e+06</td>\n      <td>0.0</td>\n      <td>3.460575e+06</td>\n      <td>1.502719e+09</td>\n      <td>9.000000e+06</td>\n      <td>...</td>\n      <td>0.0</td>\n      <td>0.0</td>\n      <td>0.0</td>\n      <td>0.0</td>\n      <td>0.0</td>\n      <td>0.0</td>\n      <td>0.0</td>\n      <td>1.0</td>\n      <td>5.637145e+09</td>\n      <td>5.637150e+09</td>\n    </tr>\n  </tbody>\n</table>\n<p>8 rows × 54 columns</p>\n</div>"
     },
     "execution_count": 121,
     "metadata": {},
     "output_type": "execute_result"
    }
   ],
   "source": [
    "df.describe()"
   ],
   "metadata": {
    "collapsed": false,
    "pycharm": {
     "name": "#%%\n"
    }
   }
  },
  {
   "cell_type": "code",
   "execution_count": 122,
   "outputs": [
    {
     "data": {
      "text/plain": "Index(['INVOICEID', 'TRANSACTIONID', 'TYPE', 'RECEIPTID', 'STORE', 'TERMINAL',\n       'STAFF', 'TRANSDATE', 'TRANSTIME', 'SHIFT', 'SHIFTDATE', 'WRONGSHIFT',\n       'INFOCODEDISCGROUP', 'CUSTACCOUNT', 'TRANSCODE',\n       'SALESPAYMENTDIFFERENCE', 'NETAMOUNT', 'COSTAMOUNT', 'GROSSAMOUNT',\n       'PAYMENTAMOUNT', 'DISCAMOUNT', 'CUSTDISCAMOUNT', 'TOTALDISCAMOUNT',\n       'NUMBEROFITEMS', 'AMOUNTTOACCOUNT', 'ROUNDEDAMOUNT', 'ENTRYSTATUS',\n       'NUMBEROFINVOICES', 'NUMBEROFITEMLINES', 'STATEMENTCODE', 'STATEMENTID',\n       'REFUNDRECEIPTID', 'INCOMEEXPENSEAMOUNT', 'TOACCOUNT',\n       'NUMBEROFPAYMENTLINES', 'SALEISRETURNSALE', 'COUNTER',\n       'TIMEWHENTOTALPRESSED', 'TIMEWHENTRANSCLOSED', 'CURRENCY',\n       'TRANSTABLEID', 'OPENDRAWER', 'REPLICATED', 'INCLUDEDINSTATISTICS',\n       'RETRIEVEDFROMRECEIPTID', 'CREATEDONPOSTERMINAL', 'POSTASSHIPMENT',\n       'ITEMSPOSTED', 'REPLICATIONCOUNTERFROMORIGIN', 'SELLTOCONTACTID',\n       'LOYALTYCARDID', 'CUSTPURCHASEORDER', 'COMMENT_', 'SALESORDERAMOUNT',\n       'SALESINVOICEAMOUNT', 'RECEIPTEMAIL', 'RECEIPTEMAILSENT', 'EXCHRATE',\n       'SALESORDERID', 'BATCHID', 'BATCHTERMINALID', 'BUSINESSDATE', 'CHANNEL',\n       'CHANNELREFERENCEID', 'CREATEDOFFLINE', 'DEFAULTDIMENSION',\n       'DESCRIPTION', 'DLVMODE', 'FISCALDOCUMENTID', 'FISCALSERIALID',\n       'INVENTLOCATIONID', 'INVENTSITEID', 'INVOICECOMMENT',\n       'LOGISTICSPOSTALADDRESS', 'LOYALTYDISCAMOUNT_RU', 'ORIGIN',\n       'RECEIPTDATEREQUESTED', 'SHIPPINGDATEREQUESTED', 'SKIPAGGREGATION',\n       'TOTALMANUALDISCOUNTAMOUNT', 'TOTALMANUALDISCOUNTPERCENTAGE',\n       'CUSTACCOUNTASYNC', 'CUSTOMERORDERMODE', 'CUSTOMERORDERTYPE', 'SUBTYPE',\n       'TAXCALCULATIONTYPE', 'MODIFIEDDATETIME', 'DEL_MODIFIEDTIME',\n       'MODIFIEDBY', 'CREATEDDATETIME', 'DEL_CREATEDTIME', 'CREATEDBY',\n       'DATAAREAID', 'RECVERSION', 'PARTITION', 'RECID'],\n      dtype='object')"
     },
     "execution_count": 122,
     "metadata": {},
     "output_type": "execute_result"
    }
   ],
   "source": [
    "df.columns"
   ],
   "metadata": {
    "collapsed": false,
    "pycharm": {
     "name": "#%%\n"
    }
   }
  },
  {
   "cell_type": "code",
   "execution_count": 123,
   "outputs": [
    {
     "data": {
      "text/plain": "96"
     },
     "execution_count": 123,
     "metadata": {},
     "output_type": "execute_result"
    }
   ],
   "source": [
    "len(df.columns)"
   ],
   "metadata": {
    "collapsed": false,
    "pycharm": {
     "name": "#%%\n"
    }
   }
  },
  {
   "cell_type": "code",
   "execution_count": 124,
   "outputs": [
    {
     "name": "stdout",
     "output_type": "stream",
     "text": [
      "<class 'pandas.core.frame.DataFrame'>\n",
      "RangeIndex: 5511 entries, 0 to 5510\n",
      "Data columns (total 96 columns):\n",
      " #   Column                         Non-Null Count  Dtype         \n",
      "---  ------                         --------------  -----         \n",
      " 0   INVOICEID                      5511 non-null   object        \n",
      " 1   TRANSACTIONID                  5511 non-null   object        \n",
      " 2   TYPE                           5511 non-null   int64         \n",
      " 3   RECEIPTID                      5511 non-null   object        \n",
      " 4   STORE                          5511 non-null   object        \n",
      " 5   TERMINAL                       5511 non-null   object        \n",
      " 6   STAFF                          5511 non-null   object        \n",
      " 7   TRANSDATE                      5511 non-null   datetime64[ns]\n",
      " 8   TRANSTIME                      5511 non-null   int64         \n",
      " 9   SHIFT                          5511 non-null   object        \n",
      " 10  SHIFTDATE                      5511 non-null   datetime64[ns]\n",
      " 11  WRONGSHIFT                     5511 non-null   int64         \n",
      " 12  INFOCODEDISCGROUP              5511 non-null   object        \n",
      " 13  CUSTACCOUNT                    5511 non-null   object        \n",
      " 14  TRANSCODE                      5511 non-null   int64         \n",
      " 15  SALESPAYMENTDIFFERENCE         5511 non-null   float64       \n",
      " 16  NETAMOUNT                      5511 non-null   float64       \n",
      " 17  COSTAMOUNT                     5511 non-null   float64       \n",
      " 18  GROSSAMOUNT                    5511 non-null   float64       \n",
      " 19  PAYMENTAMOUNT                  5511 non-null   float64       \n",
      " 20  DISCAMOUNT                     5511 non-null   float64       \n",
      " 21  CUSTDISCAMOUNT                 5511 non-null   float64       \n",
      " 22  TOTALDISCAMOUNT                5511 non-null   float64       \n",
      " 23  NUMBEROFITEMS                  5511 non-null   float64       \n",
      " 24  AMOUNTTOACCOUNT                5511 non-null   float64       \n",
      " 25  ROUNDEDAMOUNT                  5511 non-null   float64       \n",
      " 26  ENTRYSTATUS                    5511 non-null   int64         \n",
      " 27  NUMBEROFINVOICES               5511 non-null   int64         \n",
      " 28  NUMBEROFITEMLINES              5511 non-null   float64       \n",
      " 29  STATEMENTCODE                  5511 non-null   object        \n",
      " 30  STATEMENTID                    5511 non-null   object        \n",
      " 31  REFUNDRECEIPTID                5511 non-null   object        \n",
      " 32  INCOMEEXPENSEAMOUNT            5511 non-null   float64       \n",
      " 33  TOACCOUNT                      5511 non-null   int64         \n",
      " 34  NUMBEROFPAYMENTLINES           5511 non-null   int64         \n",
      " 35  SALEISRETURNSALE               5511 non-null   int64         \n",
      " 36  COUNTER                        5511 non-null   int64         \n",
      " 37  TIMEWHENTOTALPRESSED           5511 non-null   int64         \n",
      " 38  TIMEWHENTRANSCLOSED            5511 non-null   int64         \n",
      " 39  CURRENCY                       5511 non-null   object        \n",
      " 40  TRANSTABLEID                   5511 non-null   int64         \n",
      " 41  OPENDRAWER                     5511 non-null   int64         \n",
      " 42  REPLICATED                     5511 non-null   int64         \n",
      " 43  INCLUDEDINSTATISTICS           5511 non-null   int64         \n",
      " 44  RETRIEVEDFROMRECEIPTID         5511 non-null   object        \n",
      " 45  CREATEDONPOSTERMINAL           5511 non-null   object        \n",
      " 46  POSTASSHIPMENT                 5511 non-null   int64         \n",
      " 47  ITEMSPOSTED                    5511 non-null   int64         \n",
      " 48  REPLICATIONCOUNTERFROMORIGIN   5511 non-null   int64         \n",
      " 49  SELLTOCONTACTID                5511 non-null   object        \n",
      " 50  LOYALTYCARDID                  5511 non-null   object        \n",
      " 51  CUSTPURCHASEORDER              5511 non-null   object        \n",
      " 52  COMMENT_                       5511 non-null   object        \n",
      " 53  SALESORDERAMOUNT               5511 non-null   float64       \n",
      " 54  SALESINVOICEAMOUNT             5511 non-null   float64       \n",
      " 55  RECEIPTEMAIL                   5511 non-null   object        \n",
      " 56  RECEIPTEMAILSENT               5511 non-null   int64         \n",
      " 57  EXCHRATE                       5511 non-null   float64       \n",
      " 58  SALESORDERID                   5511 non-null   object        \n",
      " 59  BATCHID                        5511 non-null   int64         \n",
      " 60  BATCHTERMINALID                5511 non-null   object        \n",
      " 61  BUSINESSDATE                   5511 non-null   datetime64[ns]\n",
      " 62  CHANNEL                        5511 non-null   int64         \n",
      " 63  CHANNELREFERENCEID             5511 non-null   object        \n",
      " 64  CREATEDOFFLINE                 5511 non-null   int64         \n",
      " 65  DEFAULTDIMENSION               5511 non-null   int64         \n",
      " 66  DESCRIPTION                    5511 non-null   object        \n",
      " 67  DLVMODE                        5511 non-null   object        \n",
      " 68  FISCALDOCUMENTID               5511 non-null   object        \n",
      " 69  FISCALSERIALID                 5511 non-null   object        \n",
      " 70  INVENTLOCATIONID               5511 non-null   object        \n",
      " 71  INVENTSITEID                   5511 non-null   object        \n",
      " 72  INVOICECOMMENT                 5511 non-null   object        \n",
      " 73  LOGISTICSPOSTALADDRESS         5511 non-null   int64         \n",
      " 74  LOYALTYDISCAMOUNT_RU           5511 non-null   float64       \n",
      " 75  ORIGIN                         5511 non-null   object        \n",
      " 76  RECEIPTDATEREQUESTED           5511 non-null   datetime64[ns]\n",
      " 77  SHIPPINGDATEREQUESTED          5511 non-null   datetime64[ns]\n",
      " 78  SKIPAGGREGATION                5511 non-null   int64         \n",
      " 79  TOTALMANUALDISCOUNTAMOUNT      5511 non-null   float64       \n",
      " 80  TOTALMANUALDISCOUNTPERCENTAGE  5511 non-null   float64       \n",
      " 81  CUSTACCOUNTASYNC               5511 non-null   object        \n",
      " 82  CUSTOMERORDERMODE              5511 non-null   int64         \n",
      " 83  CUSTOMERORDERTYPE              5511 non-null   int64         \n",
      " 84  SUBTYPE                        5511 non-null   int64         \n",
      " 85  TAXCALCULATIONTYPE             5511 non-null   int64         \n",
      " 86  MODIFIEDDATETIME               5511 non-null   datetime64[ns]\n",
      " 87  DEL_MODIFIEDTIME               5511 non-null   int64         \n",
      " 88  MODIFIEDBY                     5511 non-null   object        \n",
      " 89  CREATEDDATETIME                5511 non-null   datetime64[ns]\n",
      " 90  DEL_CREATEDTIME                5511 non-null   int64         \n",
      " 91  CREATEDBY                      5511 non-null   object        \n",
      " 92  DATAAREAID                     5511 non-null   object        \n",
      " 93  RECVERSION                     5511 non-null   int64         \n",
      " 94  PARTITION                      5511 non-null   int64         \n",
      " 95  RECID                          5511 non-null   int64         \n",
      "dtypes: datetime64[ns](7), float64(19), int64(35), object(35)\n",
      "memory usage: 4.0+ MB\n"
     ]
    }
   ],
   "source": [
    "df.info()"
   ],
   "metadata": {
    "collapsed": false,
    "pycharm": {
     "name": "#%%\n"
    }
   }
  },
  {
   "cell_type": "code",
   "execution_count": 125,
   "outputs": [
    {
     "data": {
      "text/plain": "'1002_8-1002_8_01-1001'"
     },
     "execution_count": 125,
     "metadata": {},
     "output_type": "execute_result"
    }
   ],
   "source": [
    "df.iloc[1, 1]"
   ],
   "metadata": {
    "collapsed": false,
    "pycharm": {
     "name": "#%%\n"
    }
   }
  },
  {
   "cell_type": "code",
   "execution_count": 126,
   "outputs": [],
   "source": [
    "s = df.iloc[1, :-1]"
   ],
   "metadata": {
    "collapsed": false,
    "pycharm": {
     "name": "#%%\n"
    }
   }
  },
  {
   "cell_type": "code",
   "execution_count": 127,
   "outputs": [],
   "source": [
    "import numpy as np"
   ],
   "metadata": {
    "collapsed": false,
    "pycharm": {
     "name": "#%%\n"
    }
   }
  },
  {
   "cell_type": "code",
   "execution_count": 128,
   "outputs": [
    {
     "ename": "ValueError",
     "evalue": "format number 1 of \"1002_8-1002_8_01-1001\" is not recognized",
     "output_type": "error",
     "traceback": [
      "\u001B[1;31m---------------------------------------------------------------------------\u001B[0m",
      "\u001B[1;31mValueError\u001B[0m                                Traceback (most recent call last)",
      "Input \u001B[1;32mIn [128]\u001B[0m, in \u001B[0;36m<module>\u001B[1;34m\u001B[0m\n\u001B[1;32m----> 1\u001B[0m \u001B[43mnp\u001B[49m\u001B[38;5;241;43m.\u001B[39;49m\u001B[43mdtype\u001B[49m\u001B[43m(\u001B[49m\u001B[43ms\u001B[49m\u001B[43m[\u001B[49m\u001B[38;5;241;43m1\u001B[39;49m\u001B[43m]\u001B[49m\u001B[43m)\u001B[49m\n",
      "File \u001B[1;32mc:\\Users\\mohse\\Documents\\dev\\python_projects\\generalenv\\lib\\site-packages\\numpy\\core\\_internal.py:176\u001B[0m, in \u001B[0;36m_commastring\u001B[1;34m(astr)\u001B[0m\n\u001B[0;32m    174\u001B[0m         mo \u001B[38;5;241m=\u001B[39m sep_re\u001B[38;5;241m.\u001B[39mmatch(astr, pos\u001B[38;5;241m=\u001B[39mstartindex)\n\u001B[0;32m    175\u001B[0m         \u001B[38;5;28;01mif\u001B[39;00m \u001B[38;5;129;01mnot\u001B[39;00m mo:\n\u001B[1;32m--> 176\u001B[0m             \u001B[38;5;28;01mraise\u001B[39;00m \u001B[38;5;167;01mValueError\u001B[39;00m(\n\u001B[0;32m    177\u001B[0m                 \u001B[38;5;124m'\u001B[39m\u001B[38;5;124mformat number \u001B[39m\u001B[38;5;132;01m%d\u001B[39;00m\u001B[38;5;124m of \u001B[39m\u001B[38;5;124m\"\u001B[39m\u001B[38;5;132;01m%s\u001B[39;00m\u001B[38;5;124m\"\u001B[39m\u001B[38;5;124m is not recognized\u001B[39m\u001B[38;5;124m'\u001B[39m \u001B[38;5;241m%\u001B[39m\n\u001B[0;32m    178\u001B[0m                 (\u001B[38;5;28mlen\u001B[39m(result)\u001B[38;5;241m+\u001B[39m\u001B[38;5;241m1\u001B[39m, astr))\n\u001B[0;32m    179\u001B[0m         startindex \u001B[38;5;241m=\u001B[39m mo\u001B[38;5;241m.\u001B[39mend()\n\u001B[0;32m    181\u001B[0m \u001B[38;5;28;01mif\u001B[39;00m order2 \u001B[38;5;241m==\u001B[39m \u001B[38;5;124m'\u001B[39m\u001B[38;5;124m'\u001B[39m:\n",
      "\u001B[1;31mValueError\u001B[0m: format number 1 of \"1002_8-1002_8_01-1001\" is not recognized"
     ]
    }
   ],
   "source": [
    "np.dtype(s[1])"
   ],
   "metadata": {
    "collapsed": false,
    "pycharm": {
     "name": "#%%\n"
    }
   }
  },
  {
   "cell_type": "code",
   "execution_count": 129,
   "outputs": [
    {
     "data": {
      "text/plain": "dtype('int64')"
     },
     "execution_count": 129,
     "metadata": {},
     "output_type": "execute_result"
    }
   ],
   "source": [
    "df[\"WRONGSHIFT\"].dtype"
   ],
   "metadata": {
    "collapsed": false,
    "pycharm": {
     "name": "#%%\n"
    }
   }
  },
  {
   "cell_type": "code",
   "execution_count": 130,
   "outputs": [
    {
     "name": "stdout",
     "output_type": "stream",
     "text": [
      "INVOICEID\n",
      "TRANSACTIONID\n",
      "TYPE\n",
      "RECEIPTID\n",
      "STORE\n",
      "TERMINAL\n",
      "STAFF\n",
      "TRANSDATE\n",
      "TRANSTIME\n",
      "SHIFT\n",
      "SHIFTDATE\n",
      "WRONGSHIFT\n",
      "INFOCODEDISCGROUP\n",
      "CUSTACCOUNT\n",
      "TRANSCODE\n",
      "SALESPAYMENTDIFFERENCE\n",
      "NETAMOUNT\n",
      "COSTAMOUNT\n",
      "GROSSAMOUNT\n",
      "PAYMENTAMOUNT\n",
      "DISCAMOUNT\n",
      "CUSTDISCAMOUNT\n",
      "TOTALDISCAMOUNT\n",
      "NUMBEROFITEMS\n",
      "AMOUNTTOACCOUNT\n",
      "ROUNDEDAMOUNT\n",
      "ENTRYSTATUS\n",
      "NUMBEROFINVOICES\n",
      "NUMBEROFITEMLINES\n",
      "STATEMENTCODE\n",
      "STATEMENTID\n",
      "REFUNDRECEIPTID\n",
      "INCOMEEXPENSEAMOUNT\n",
      "TOACCOUNT\n",
      "NUMBEROFPAYMENTLINES\n",
      "SALEISRETURNSALE\n",
      "COUNTER\n",
      "TIMEWHENTOTALPRESSED\n",
      "TIMEWHENTRANSCLOSED\n",
      "CURRENCY\n",
      "TRANSTABLEID\n",
      "OPENDRAWER\n",
      "REPLICATED\n",
      "INCLUDEDINSTATISTICS\n",
      "RETRIEVEDFROMRECEIPTID\n",
      "CREATEDONPOSTERMINAL\n",
      "POSTASSHIPMENT\n",
      "ITEMSPOSTED\n",
      "REPLICATIONCOUNTERFROMORIGIN\n",
      "SELLTOCONTACTID\n",
      "LOYALTYCARDID\n",
      "CUSTPURCHASEORDER\n",
      "COMMENT_\n",
      "SALESORDERAMOUNT\n",
      "SALESINVOICEAMOUNT\n",
      "RECEIPTEMAIL\n",
      "RECEIPTEMAILSENT\n",
      "EXCHRATE\n",
      "SALESORDERID\n",
      "BATCHID\n",
      "BATCHTERMINALID\n",
      "BUSINESSDATE\n",
      "CHANNEL\n",
      "CHANNELREFERENCEID\n",
      "CREATEDOFFLINE\n",
      "DEFAULTDIMENSION\n",
      "DESCRIPTION\n",
      "DLVMODE\n",
      "FISCALDOCUMENTID\n",
      "FISCALSERIALID\n",
      "INVENTLOCATIONID\n",
      "INVENTSITEID\n",
      "INVOICECOMMENT\n",
      "LOGISTICSPOSTALADDRESS\n",
      "LOYALTYDISCAMOUNT_RU\n",
      "ORIGIN\n",
      "RECEIPTDATEREQUESTED\n",
      "SHIPPINGDATEREQUESTED\n",
      "SKIPAGGREGATION\n",
      "TOTALMANUALDISCOUNTAMOUNT\n",
      "TOTALMANUALDISCOUNTPERCENTAGE\n",
      "CUSTACCOUNTASYNC\n",
      "CUSTOMERORDERMODE\n",
      "CUSTOMERORDERTYPE\n",
      "SUBTYPE\n",
      "TAXCALCULATIONTYPE\n",
      "MODIFIEDDATETIME\n",
      "DEL_MODIFIEDTIME\n",
      "MODIFIEDBY\n",
      "CREATEDDATETIME\n",
      "DEL_CREATEDTIME\n",
      "CREATEDBY\n",
      "DATAAREAID\n",
      "RECVERSION\n",
      "PARTITION\n",
      "RECID\n"
     ]
    }
   ],
   "source": [
    "for i in df.columns:\n",
    "    print(i)"
   ],
   "metadata": {
    "collapsed": false,
    "pycharm": {
     "name": "#%%\n"
    }
   }
  },
  {
   "cell_type": "code",
   "execution_count": 131,
   "outputs": [
    {
     "data": {
      "text/plain": "'INVOICEID'"
     },
     "execution_count": 131,
     "metadata": {},
     "output_type": "execute_result"
    }
   ],
   "source": [
    "df.columns[0]"
   ],
   "metadata": {
    "collapsed": false,
    "pycharm": {
     "name": "#%%\n"
    }
   }
  },
  {
   "cell_type": "code",
   "execution_count": 132,
   "outputs": [],
   "source": [
    "dict = {}\n",
    "for i in df.columns:\n",
    "    dict[i] = ''"
   ],
   "metadata": {
    "collapsed": false,
    "pycharm": {
     "name": "#%%\n"
    }
   }
  },
  {
   "cell_type": "code",
   "execution_count": 133,
   "outputs": [],
   "source": [
    "i = 0\n",
    "for key, value in dict.items():\n",
    "    dict[key] = i * i+1\n",
    "    i += 1"
   ],
   "metadata": {
    "collapsed": false,
    "pycharm": {
     "name": "#%%\n"
    }
   }
  },
  {
   "cell_type": "code",
   "execution_count": 134,
   "outputs": [
    {
     "data": {
      "text/plain": "{'INVOICEID': 1,\n 'TRANSACTIONID': 2,\n 'TYPE': 5,\n 'RECEIPTID': 10,\n 'STORE': 17,\n 'TERMINAL': 26,\n 'STAFF': 37,\n 'TRANSDATE': 50,\n 'TRANSTIME': 65,\n 'SHIFT': 82,\n 'SHIFTDATE': 101,\n 'WRONGSHIFT': 122,\n 'INFOCODEDISCGROUP': 145,\n 'CUSTACCOUNT': 170,\n 'TRANSCODE': 197,\n 'SALESPAYMENTDIFFERENCE': 226,\n 'NETAMOUNT': 257,\n 'COSTAMOUNT': 290,\n 'GROSSAMOUNT': 325,\n 'PAYMENTAMOUNT': 362,\n 'DISCAMOUNT': 401,\n 'CUSTDISCAMOUNT': 442,\n 'TOTALDISCAMOUNT': 485,\n 'NUMBEROFITEMS': 530,\n 'AMOUNTTOACCOUNT': 577,\n 'ROUNDEDAMOUNT': 626,\n 'ENTRYSTATUS': 677,\n 'NUMBEROFINVOICES': 730,\n 'NUMBEROFITEMLINES': 785,\n 'STATEMENTCODE': 842,\n 'STATEMENTID': 901,\n 'REFUNDRECEIPTID': 962,\n 'INCOMEEXPENSEAMOUNT': 1025,\n 'TOACCOUNT': 1090,\n 'NUMBEROFPAYMENTLINES': 1157,\n 'SALEISRETURNSALE': 1226,\n 'COUNTER': 1297,\n 'TIMEWHENTOTALPRESSED': 1370,\n 'TIMEWHENTRANSCLOSED': 1445,\n 'CURRENCY': 1522,\n 'TRANSTABLEID': 1601,\n 'OPENDRAWER': 1682,\n 'REPLICATED': 1765,\n 'INCLUDEDINSTATISTICS': 1850,\n 'RETRIEVEDFROMRECEIPTID': 1937,\n 'CREATEDONPOSTERMINAL': 2026,\n 'POSTASSHIPMENT': 2117,\n 'ITEMSPOSTED': 2210,\n 'REPLICATIONCOUNTERFROMORIGIN': 2305,\n 'SELLTOCONTACTID': 2402,\n 'LOYALTYCARDID': 2501,\n 'CUSTPURCHASEORDER': 2602,\n 'COMMENT_': 2705,\n 'SALESORDERAMOUNT': 2810,\n 'SALESINVOICEAMOUNT': 2917,\n 'RECEIPTEMAIL': 3026,\n 'RECEIPTEMAILSENT': 3137,\n 'EXCHRATE': 3250,\n 'SALESORDERID': 3365,\n 'BATCHID': 3482,\n 'BATCHTERMINALID': 3601,\n 'BUSINESSDATE': 3722,\n 'CHANNEL': 3845,\n 'CHANNELREFERENCEID': 3970,\n 'CREATEDOFFLINE': 4097,\n 'DEFAULTDIMENSION': 4226,\n 'DESCRIPTION': 4357,\n 'DLVMODE': 4490,\n 'FISCALDOCUMENTID': 4625,\n 'FISCALSERIALID': 4762,\n 'INVENTLOCATIONID': 4901,\n 'INVENTSITEID': 5042,\n 'INVOICECOMMENT': 5185,\n 'LOGISTICSPOSTALADDRESS': 5330,\n 'LOYALTYDISCAMOUNT_RU': 5477,\n 'ORIGIN': 5626,\n 'RECEIPTDATEREQUESTED': 5777,\n 'SHIPPINGDATEREQUESTED': 5930,\n 'SKIPAGGREGATION': 6085,\n 'TOTALMANUALDISCOUNTAMOUNT': 6242,\n 'TOTALMANUALDISCOUNTPERCENTAGE': 6401,\n 'CUSTACCOUNTASYNC': 6562,\n 'CUSTOMERORDERMODE': 6725,\n 'CUSTOMERORDERTYPE': 6890,\n 'SUBTYPE': 7057,\n 'TAXCALCULATIONTYPE': 7226,\n 'MODIFIEDDATETIME': 7397,\n 'DEL_MODIFIEDTIME': 7570,\n 'MODIFIEDBY': 7745,\n 'CREATEDDATETIME': 7922,\n 'DEL_CREATEDTIME': 8101,\n 'CREATEDBY': 8282,\n 'DATAAREAID': 8465,\n 'RECVERSION': 8650,\n 'PARTITION': 8837,\n 'RECID': 9026}"
     },
     "execution_count": 134,
     "metadata": {},
     "output_type": "execute_result"
    }
   ],
   "source": [
    "dict"
   ],
   "metadata": {
    "collapsed": false,
    "pycharm": {
     "name": "#%%\n"
    }
   }
  },
  {
   "cell_type": "code",
   "execution_count": 135,
   "outputs": [],
   "source": [
    "list_item = range(0,10,2)"
   ],
   "metadata": {
    "collapsed": false,
    "pycharm": {
     "name": "#%%\n"
    }
   }
  },
  {
   "cell_type": "code",
   "execution_count": 136,
   "outputs": [
    {
     "data": {
      "text/plain": "6"
     },
     "execution_count": 136,
     "metadata": {},
     "output_type": "execute_result"
    }
   ],
   "source": [
    "list_item[3]"
   ],
   "metadata": {
    "collapsed": false,
    "pycharm": {
     "name": "#%%\n"
    }
   }
  },
  {
   "cell_type": "code",
   "execution_count": 137,
   "outputs": [
    {
     "data": {
      "text/plain": "[0, 2, 4, 6, 8]"
     },
     "execution_count": 137,
     "metadata": {},
     "output_type": "execute_result"
    }
   ],
   "source": [
    "[i for i in list_item]"
   ],
   "metadata": {
    "collapsed": false,
    "pycharm": {
     "name": "#%%\n"
    }
   }
  },
  {
   "cell_type": "code",
   "execution_count": 138,
   "outputs": [],
   "source": [
    "server = 'tcp:localhost,1433'\n",
    "database = 'MicrosoftDynamicsAX'\n",
    "username = 'sa'\n",
    "password = 'testpassword'"
   ],
   "metadata": {
    "collapsed": false,
    "pycharm": {
     "name": "#%%\n"
    }
   }
  },
  {
   "cell_type": "code",
   "execution_count": 139,
   "outputs": [
    {
     "ename": "ImportError",
     "evalue": "cannot import name 'InitDatabase' from 'IDBs' (C:\\Users\\mohse\\Documents\\dev\\python_projects\\project03\\IDBs.py)",
     "output_type": "error",
     "traceback": [
      "\u001B[1;31m---------------------------------------------------------------------------\u001B[0m",
      "\u001B[1;31mImportError\u001B[0m                               Traceback (most recent call last)",
      "Input \u001B[1;32mIn [139]\u001B[0m, in \u001B[0;36m<module>\u001B[1;34m\u001B[0m\n\u001B[1;32m----> 1\u001B[0m \u001B[38;5;28;01mfrom\u001B[39;00m \u001B[38;5;21;01mIDBs\u001B[39;00m \u001B[38;5;28;01mimport\u001B[39;00m InitDatabase\n\u001B[0;32m      3\u001B[0m init_db \u001B[38;5;241m=\u001B[39m InitDatabase(database, username, password)\n",
      "\u001B[1;31mImportError\u001B[0m: cannot import name 'InitDatabase' from 'IDBs' (C:\\Users\\mohse\\Documents\\dev\\python_projects\\project03\\IDBs.py)"
     ]
    }
   ],
   "source": [
    "from IDBs import InitDatabase\n",
    "\n",
    "init_db = InitDatabase(database, username, password)"
   ],
   "metadata": {
    "collapsed": false,
    "pycharm": {
     "name": "#%%\n"
    }
   }
  },
  {
   "cell_type": "code",
   "execution_count": 140,
   "outputs": [],
   "source": [
    "import numpy as np"
   ],
   "metadata": {
    "collapsed": false,
    "pycharm": {
     "name": "#%%\n"
    }
   }
  },
  {
   "cell_type": "code",
   "execution_count": 147,
   "outputs": [
    {
     "data": {
      "text/plain": "3"
     },
     "execution_count": 147,
     "metadata": {},
     "output_type": "execute_result"
    }
   ],
   "source": [
    "np.random.randint(0, 10)"
   ],
   "metadata": {
    "collapsed": false,
    "pycharm": {
     "name": "#%%\n"
    }
   }
  },
  {
   "cell_type": "code",
   "execution_count": null,
   "outputs": [],
   "source": [],
   "metadata": {
    "collapsed": false,
    "pycharm": {
     "name": "#%%\n"
    }
   }
  }
 ],
 "metadata": {
  "kernelspec": {
   "display_name": "Python 3",
   "language": "python",
   "name": "python3"
  },
  "language_info": {
   "codemirror_mode": {
    "name": "ipython",
    "version": 2
   },
   "file_extension": ".py",
   "mimetype": "text/x-python",
   "name": "python",
   "nbconvert_exporter": "python",
   "pygments_lexer": "ipython2",
   "version": "2.7.6"
  }
 },
 "nbformat": 4,
 "nbformat_minor": 0
}